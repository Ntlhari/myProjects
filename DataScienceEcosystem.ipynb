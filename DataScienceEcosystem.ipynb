{
 "cells": [
  {
   "cell_type": "markdown",
   "id": "758dd886-2f30-4602-aec5-c45597da30e3",
   "metadata": {
    "tags": []
   },
   "source": [
    "# Data Science tools and Ecosystem"
   ]
  },
  {
   "cell_type": "markdown",
   "id": "99785465-91ff-48a1-a187-ebad9981e47c",
   "metadata": {},
   "source": [
    "# Objectives\n",
    "\n",
    "The following are some of the key takeaways from the course covered in this notebook on tools for data science:\n",
    "\n",
    "- List popular tools and frameworks for Data Science such as Jupyter Notebooks, Pandas, NumPy, and TensorFlow.\n",
    "- Describe the importance of version control and collaboration tools such as Git and GitHub in the data science process.\n",
    "- Explain how to use SQL for data querying and manipulation.\n",
    "- Outline the basics of cloud computing and its applications in data science.\n",
    "- Discuss the concept of big data and how to handle it using tools like Hadoop and Spark.\n",
    "'''#### In this notebook, Data Science Tools and Ecosystem are summarized."
   ]
  },
  {
   "cell_type": "markdown",
   "id": "4b828611-69d9-4f76-8d96-8cc1ce259ef8",
   "metadata": {},
   "source": [
    "## Some of the popular languages that Data Scientists use are:\n",
    "\n",
    "1. Python\n",
    "2. R\n",
    "3. SQL\n",
    "4. Julia\n",
    "5. MATLAB"
   ]
  },
  {
   "cell_type": "markdown",
   "id": "da9edbd9-d75d-4694-8382-3321aa849dc9",
   "metadata": {},
   "source": [
    "## Some of the commonly used libraries used by Data Scientists include:\n",
    "\n",
    "1. NumPy\n",
    "2. Pandas\n",
    "3. Matplotlib\n",
    "4. Scikit-learn\n",
    "5. Seaborn"
   ]
  },
  {
   "cell_type": "markdown",
   "id": "de2de1c2-fa2a-41ca-9885-327dc0d8f969",
   "metadata": {},
   "source": [
    "## Author\n",
    "\n",
    "My name is Ntlhari Siwele. I am a data scientist / data Analyst. \n"
   ]
  },
  {
   "cell_type": "markdown",
   "id": "951a716c-7368-4083-86f5-58a5398255f1",
   "metadata": {},
   "source": [
    "| Data Science Tools |\n",
    "| ------------------ |\n",
    "| Jupyter Notebook   |\n",
    "| RStudio            |\n",
    "| Spyder             |"
   ]
  },
  {
   "cell_type": "markdown",
   "id": "d75f98cf-4b0b-480f-919f-9ec23a1e6bb2",
   "metadata": {},
   "source": [
    "### Below are a few examples of evaluating arithmetic expressions in Python.\n",
    "\n",
    "To evaluate arithmetic expressions in Python, you can use basic operators like addition (+), subtraction (-), multiplication (*), division (/), and modulus (%). Here are a few examples:\n",
    "\n",
    "- Addition: `3 + 5` evaluates to `8`.\n",
    "- Subtraction: `7 - 2` evaluates to `5`.\n",
    "- Multiplication: `2 * 4` evaluates to `8`.\n",
    "- Division: `10 / 2` evaluates to `5.0`.\n",
    "- Modulus: `9 % 4` evaluates to `1`.\n",
    "\n",
    "You can also use parentheses to group expressions and control the order of operations. For example, `(3 + 4) * 2` evaluates to `14`.\n"
   ]
  },
  {
   "cell_type": "code",
   "execution_count": 2,
   "id": "a9ad14f2-4c11-4ecc-a8d6-bf3d0b899b29",
   "metadata": {},
   "outputs": [
    {
     "name": "stdout",
     "output_type": "stream",
     "text": [
      "17\n"
     ]
    }
   ],
   "source": [
    "# This is a simple arithmetic expression to multiply then add integers.\n",
    "result = (3 * 4) + 5\n",
    "print(result)"
   ]
  },
  {
   "cell_type": "code",
   "execution_count": 3,
   "id": "6d2c04f6-4546-4d29-8c11-e17532ea7ed4",
   "metadata": {},
   "outputs": [
    {
     "name": "stdout",
     "output_type": "stream",
     "text": [
      "3.3333333333333335\n"
     ]
    }
   ],
   "source": [
    "# Code cell converts 200 minutes to hours\n",
    "minutes = 200\n",
    "hours = minutes / 60\n",
    "print(hours)"
   ]
  },
  {
   "cell_type": "code",
   "execution_count": null,
   "id": "81661023-7968-4d26-bde6-43a581a1aec1",
   "metadata": {},
   "outputs": [],
   "source": []
  }
 ],
 "metadata": {
  "kernelspec": {
   "display_name": "Python",
   "language": "python",
   "name": "conda-env-python-py"
  },
  "language_info": {
   "codemirror_mode": {
    "name": "ipython",
    "version": 3
   },
   "file_extension": ".py",
   "mimetype": "text/x-python",
   "name": "python",
   "nbconvert_exporter": "python",
   "pygments_lexer": "ipython3",
   "version": "3.7.12"
  }
 },
 "nbformat": 4,
 "nbformat_minor": 5
}
